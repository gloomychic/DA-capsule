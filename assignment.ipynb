{
 "cells": [
  {
   "cell_type": "code",
   "execution_count": 61,
   "metadata": {},
   "outputs": [
    {
     "name": "stdout",
     "output_type": "stream",
     "text": [
      "1\n",
      "2\n",
      "3\n",
      "4\n",
      "5\n",
      "6\n",
      "7\n",
      "8\n",
      "9\n",
      "10\n"
     ]
    }
   ],
   "source": [
    "for n in range(1,11):\n",
    "    print(n)\n"
   ]
  },
  {
   "cell_type": "code",
   "execution_count": 62,
   "metadata": {},
   "outputs": [
    {
     "name": "stdout",
     "output_type": "stream",
     "text": [
      "11 * 1 = 11\n",
      "11 * 2 = 22\n",
      "11 * 3 = 33\n",
      "11 * 4 = 44\n",
      "11 * 5 = 55\n",
      "11 * 6 = 66\n",
      "11 * 7 = 77\n",
      "11 * 8 = 88\n",
      "11 * 9 = 99\n",
      "11 * 10 = 110\n"
     ]
    }
   ],
   "source": [
    "inum = int(input(\"enter a number:\"))\n",
    "for i in range (1,11):\n",
    "    a = inum * i \n",
    "    print (f\"{inum} * {i} = {a}\")"
   ]
  },
  {
   "cell_type": "code",
   "execution_count": 63,
   "metadata": {},
   "outputs": [
    {
     "name": "stdout",
     "output_type": "stream",
     "text": [
      "sum of number between 1 and 100 is 2550\n"
     ]
    }
   ],
   "source": [
    "seve = 0\n",
    "for i in range(1,101):\n",
    "    if i % 2 == 0:\n",
    "        seve+=i\n",
    "print(\"sum of number between 1 and 100 is\", seve)"
   ]
  },
  {
   "cell_type": "code",
   "execution_count": 64,
   "metadata": {},
   "outputs": [
    {
     "name": "stdout",
     "output_type": "stream",
     "text": [
      "prime\n"
     ]
    }
   ],
   "source": [
    "num = int(input(\"Enter a number: \"))\n",
    "if num<2:\n",
    "    print(\"not a prime\")\n",
    "else:\n",
    "    i=2\n",
    "    while i < num:\n",
    "        if (num % i == 0):\n",
    "            print(\"not a prime\")\n",
    "            break\n",
    "        i+= 1\n",
    "    else:\n",
    "        print(\"prime\")  "
   ]
  },
  {
   "cell_type": "code",
   "execution_count": 65,
   "metadata": {},
   "outputs": [
    {
     "name": "stdout",
     "output_type": "stream",
     "text": [
      "39916800\n"
     ]
    }
   ],
   "source": [
    "#factorial is multiply all num fron 1 till the given range.\n",
    "num = int(input(\"enter a number:\"))\n",
    "fac = 1\n",
    "for i in range(1, num+1):\n",
    "    fac *= i\n",
    "print (fac)    "
   ]
  },
  {
   "cell_type": "code",
   "execution_count": 76,
   "metadata": {},
   "outputs": [
    {
     "name": "stdout",
     "output_type": "stream",
     "text": [
      "1\n",
      "2\n",
      "3\n",
      "5\n",
      "8\n",
      "13\n",
      "21\n"
     ]
    }
   ],
   "source": [
    "lim= int(input(\"enter a limit:\"))\n",
    "a = 0\n",
    "b = 1\n",
    "for r in range(0,lim):\n",
    "    s = a+b\n",
    "    print (s)\n",
    "    a = b\n",
    "    b = s"
   ]
  },
  {
   "cell_type": "code",
   "execution_count": 79,
   "metadata": {},
   "outputs": [
    {
     "name": "stdout",
     "output_type": "stream",
     "text": [
      "largest element is 13\n"
     ]
    }
   ],
   "source": [
    "arr = [2,3,4,6,7,10,12,11,13]\n",
    "maxele = arr[0]\n",
    "for ele in arr:\n",
    "    if ele > maxele:\n",
    "        maxele = ele\n",
    "print(\"largest element is\", ele)"
   ]
  },
  {
   "cell_type": "code",
   "execution_count": 83,
   "metadata": {},
   "outputs": [
    {
     "name": "stdout",
     "output_type": "stream",
     "text": [
      "ahsima\n"
     ]
    }
   ],
   "source": [
    "str = input(\"enter a string:\")\n",
    "length = len(str)\n",
    "while length > 0:\n",
    "    print (str[length-1], end=\"\")#to print the loop in a line\n",
    "    length -= 1\n",
    "print()"
   ]
  },
  {
   "cell_type": "code",
   "execution_count": 1,
   "metadata": {},
   "outputs": [
    {
     "name": "stdout",
     "output_type": "stream",
     "text": [
      "Not a palindrome\n"
     ]
    }
   ],
   "source": [
    "word = input(\"Enter a word: \")\n",
    "orig = word\n",
    "rev = \"\"\n",
    "for char in reversed(word):\n",
    "    rev += char\n",
    "    if rev == orig:\n",
    "        print(\"Palindrome\")\n",
    "else:\n",
    "    print(\"Not a palindrome\")"
   ]
  },
  {
   "cell_type": "code",
   "execution_count": 6,
   "metadata": {},
   "outputs": [
    {
     "name": "stdout",
     "output_type": "stream",
     "text": [
      "\n",
      "Multiplication table for 1\n",
      "1 * 1 = 1\n",
      "1 * 2 = 2\n",
      "1 * 3 = 3\n",
      "1 * 4 = 4\n",
      "1 * 5 = 5\n",
      "1 * 6 = 6\n",
      "1 * 7 = 7\n",
      "1 * 8 = 8\n",
      "1 * 9 = 9\n",
      "1 * 10 = 10\n",
      "\n",
      "Multiplication table for 2\n",
      "2 * 1 = 2\n",
      "2 * 2 = 4\n",
      "2 * 3 = 6\n",
      "2 * 4 = 8\n",
      "2 * 5 = 10\n",
      "2 * 6 = 12\n",
      "2 * 7 = 14\n",
      "2 * 8 = 16\n",
      "2 * 9 = 18\n",
      "2 * 10 = 20\n",
      "\n",
      "Multiplication table for 3\n",
      "3 * 1 = 3\n",
      "3 * 2 = 6\n",
      "3 * 3 = 9\n",
      "3 * 4 = 12\n",
      "3 * 5 = 15\n",
      "3 * 6 = 18\n",
      "3 * 7 = 21\n",
      "3 * 8 = 24\n",
      "3 * 9 = 27\n",
      "3 * 10 = 30\n",
      "\n",
      "Multiplication table for 4\n",
      "4 * 1 = 4\n",
      "4 * 2 = 8\n",
      "4 * 3 = 12\n",
      "4 * 4 = 16\n",
      "4 * 5 = 20\n",
      "4 * 6 = 24\n",
      "4 * 7 = 28\n",
      "4 * 8 = 32\n",
      "4 * 9 = 36\n",
      "4 * 10 = 40\n",
      "\n",
      "Multiplication table for 5\n",
      "5 * 1 = 5\n",
      "5 * 2 = 10\n",
      "5 * 3 = 15\n",
      "5 * 4 = 20\n",
      "5 * 5 = 25\n",
      "5 * 6 = 30\n",
      "5 * 7 = 35\n",
      "5 * 8 = 40\n",
      "5 * 9 = 45\n",
      "5 * 10 = 50\n"
     ]
    }
   ],
   "source": [
    "for i in range(1,6):\n",
    "    print(\"\\nMultiplication table for\",i)#to enter to the next line we use \\n\n",
    "    for j in range(1,11):\n",
    "        print(i, \"*\", j, \"=\", i*j)"
   ]
  },
  {
   "cell_type": "code",
   "execution_count": 8,
   "metadata": {},
   "outputs": [
    {
     "name": "stdout",
     "output_type": "stream",
     "text": [
      "Largest element in the array: 9\n"
     ]
    }
   ],
   "source": [
    "arr = [3,7,1,4,9,6,8,2,5]\n",
    "max_element = arr[0]\n",
    "for num in arr:\n",
    "    if num > max_element:\n",
    "        max_element = num\n",
    "print(\"Largest element in the array:\", max_element)        "
   ]
  },
  {
   "cell_type": "code",
   "execution_count": 9,
   "metadata": {},
   "outputs": [
    {
     "name": "stdout",
     "output_type": "stream",
     "text": [
      "Number of vowels in the string: 3\n"
     ]
    }
   ],
   "source": [
    "string = \"hello world\"\n",
    "vowel_count = 0\n",
    "for char in string:\n",
    "    if char in \"aeiouAEIOU\":\n",
    "        vowel_count += 1\n",
    "print (\"Number of vowels in the string:\", vowel_count)        "
   ]
  },
  {
   "cell_type": "code",
   "execution_count": 18,
   "metadata": {},
   "outputs": [
    {
     "name": "stdout",
     "output_type": "stream",
     "text": [
      "sum of digits 10\n"
     ]
    }
   ],
   "source": [
    "num = int(input(\"enter a number: \"))\n",
    "sum_digit = 0\n",
    "for digit in str(num):\n",
    "    sum_digit += int(digit)\n",
    "print(\"sum of digits\", sum_digit)"
   ]
  },
  {
   "cell_type": "code",
   "execution_count": 6,
   "metadata": {},
   "outputs": [
    {
     "name": "stdout",
     "output_type": "stream",
     "text": [
      "2000 is a leap year\n"
     ]
    }
   ],
   "source": [
    "#check if an year is a leap year or not\n",
    "year = int(input(\"enter an year:\"))\n",
    "while True:\n",
    "    if (year % 4== 0 and year % 100!= 0) or (year % 400 == 0):\n",
    "        print(year, \"is a leap year\")\n",
    "        break\n",
    "    else:\n",
    "        print(year, \"is not a leap year\")\n",
    "        break"
   ]
  },
  {
   "cell_type": "code",
   "execution_count": 12,
   "metadata": {},
   "outputs": [
    {
     "name": "stdout",
     "output_type": "stream",
     "text": [
      "2020 is a leap year\n",
      "1900 is not a leap year\n",
      "2016 is a leap year\n",
      "2017 is not a leap year\n",
      "2000 is a leap year\n",
      "2004 is a leap year\n",
      "2018 is not a leap year\n"
     ]
    }
   ],
   "source": [
    "years = [2020,1900,2016,2017,2000,2004,2018]\n",
    "index = 0\n",
    "while index < len(years):\n",
    "    year = years[index]\n",
    "    if (year % 4== 0 and year % 100!= 0) or (year % 400 == 0):\n",
    "        print(year, \"is a leap year\")\n",
    "    else:\n",
    "        print(year, \"is not a leap year\")\n",
    "    index += 1    "
   ]
  }
 ],
 "metadata": {
  "kernelspec": {
   "display_name": "Python 3",
   "language": "python",
   "name": "python3"
  },
  "language_info": {
   "codemirror_mode": {
    "name": "ipython",
    "version": 3
   },
   "file_extension": ".py",
   "mimetype": "text/x-python",
   "name": "python",
   "nbconvert_exporter": "python",
   "pygments_lexer": "ipython3",
   "version": "3.12.1"
  }
 },
 "nbformat": 4,
 "nbformat_minor": 2
}
