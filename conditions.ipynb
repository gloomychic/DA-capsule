{
 "cells": [
  {
   "cell_type": "markdown",
   "metadata": {},
   "source": [
    "condition statements\n",
    "elif (for multiple condition)\n",
    "if (for multiple condition)\n",
    "if else (single condition)\n",
    "nested if\n",
    "match case"
   ]
  },
  {
   "cell_type": "code",
   "execution_count": 2,
   "metadata": {},
   "outputs": [
    {
     "name": "stdout",
     "output_type": "stream",
     "text": [
      "b is greater than a\n",
      "c is greater than a\n"
     ]
    }
   ],
   "source": [
    "#if\n",
    "a = 10\n",
    "b = 20\n",
    "c = 30\n",
    "if (a>b):\n",
    "    print (\"a is greater than b\")\n",
    "if (b>c):\n",
    "    print (\"b is greater than c\")\n",
    "if (b>a):\n",
    "    print (\"b is greater than a\")\n",
    "if (c>a):\n",
    "    print (\"c is greater than a\")        \n",
    "\n"
   ]
  },
  {
   "cell_type": "code",
   "execution_count": 5,
   "metadata": {},
   "outputs": [
    {
     "name": "stdout",
     "output_type": "stream",
     "text": [
      "no one is greater\n"
     ]
    }
   ],
   "source": [
    "a = 10\n",
    "b = 20\n",
    "c = 30\n",
    "if (a>b):\n",
    "    print (\"a is greater than b\")\n",
    "elif a>c:\n",
    "    print (\"a is greater than c\")    \n",
    "elif (b>c):\n",
    "    print (\"b is greater than c\")\n",
    "elif (b<a):\n",
    "    print (\"b is greater than a\")\n",
    "elif (c<a):\n",
    "    print (\"c is greater than a\")\n",
    "else:\n",
    "    print (\"no one is greater\")       \n",
    "                 "
   ]
  },
  {
   "cell_type": "code",
   "execution_count": 6,
   "metadata": {},
   "outputs": [
    {
     "name": "stdout",
     "output_type": "stream",
     "text": [
      "b is greater than a\n"
     ]
    }
   ],
   "source": [
    "a = 10 \n",
    "b = 20\n",
    "if a>b:\n",
    "    print (\"a is greater than b\")\n",
    "else:\n",
    "    print (\"b is greater than a\")    "
   ]
  },
  {
   "cell_type": "code",
   "execution_count": 8,
   "metadata": {},
   "outputs": [
    {
     "name": "stdout",
     "output_type": "stream",
     "text": [
      "positive number\n"
     ]
    }
   ],
   "source": [
    "num = int(input(\"enter a number:\"))\n",
    "if num>0:\n",
    "    print(\"positive number\")\n",
    "elif num == 0:\n",
    "    print (\"zero\")\n",
    "else:\n",
    "    print (\"negative number\")\n"
   ]
  },
  {
   "cell_type": "code",
   "execution_count": 11,
   "metadata": {},
   "outputs": [
    {
     "name": "stdout",
     "output_type": "stream",
     "text": [
      "person is eligible to vote\n"
     ]
    }
   ],
   "source": [
    "#to check whether a person is eligible to vote or not\n",
    "age = int(input(\"enter the age:\"))\n",
    "if age>=18:\n",
    "    print(\"person is eligible to vote\")\n",
    "else:\n",
    "    print (\"person is not eligible\")    "
   ]
  },
  {
   "cell_type": "code",
   "execution_count": 12,
   "metadata": {},
   "outputs": [
    {
     "name": "stdout",
     "output_type": "stream",
     "text": [
      "even number\n"
     ]
    }
   ],
   "source": [
    "num = int(input(\"enter a number:\"))\n",
    "if num % 2 == 0:\n",
    "    print (\"even number\")\n",
    "else:\n",
    "    print (\"odd number\")"
   ]
  },
  {
   "cell_type": "code",
   "execution_count": 13,
   "metadata": {},
   "outputs": [
    {
     "name": "stdout",
     "output_type": "stream",
     "text": [
      "b is not a vowel.\n"
     ]
    }
   ],
   "source": [
    "#vowel is a,e,i,o,u. to check whether a char is vowel.\n",
    "char = input(\"Enter a character: \")\n",
    "\n",
    "if char in ['a', 'e', 'i', 'o', 'u', 'A', 'E', 'I', 'O', 'U']:\n",
    "    print(f\"{char} is a vowel.\")\n",
    "else:\n",
    "    print(f\"{char} is not a vowel.\")"
   ]
  },
  {
   "cell_type": "code",
   "execution_count": 17,
   "metadata": {},
   "outputs": [
    {
     "name": "stdout",
     "output_type": "stream",
     "text": [
      "the line segments are unequal\n"
     ]
    }
   ],
   "source": [
    "#to check whether 2 line segments are equal or not.\n",
    "line1 = int(input(\"enter a number:\")),\n",
    "line2 = int(input(\"enter a number:\"))\n",
    "if line1 == line2:\n",
    "    print(\"the line segments are equal\")\n",
    "else:\n",
    "    print (\"the line segments are unequal\")    "
   ]
  },
  {
   "cell_type": "code",
   "execution_count": 19,
   "metadata": {},
   "outputs": [
    {
     "name": "stdout",
     "output_type": "stream",
     "text": [
      "the triangle is Scalene\n"
     ]
    }
   ],
   "source": [
    "#check whether a triangle is equi, is0, or scalene.\n",
    "side1 = int(input(\"enter one side:\"))\n",
    "side2 = int(input(\"enter second side:\"))\n",
    "side3 = int(input(\"enter third side:\"))\n",
    "if side1 == side2 == side3:\n",
    "        print (\"the triangle is Equilateral\")\n",
    "elif side1 == side2 or side1 == side3 or side2 == side3:\n",
    "        print(\"the triangle is Isosceles\")\n",
    "else:\n",
    "        print(\"the triangle is Scalene\")"
   ]
  },
  {
   "cell_type": "code",
   "execution_count": 22,
   "metadata": {},
   "outputs": [
    {
     "name": "stdout",
     "output_type": "stream",
     "text": [
      "2002 is not a leap year.\n"
     ]
    }
   ],
   "source": [
    "#check whether an year is a leap year or not.\n",
    "year = int(input(\"Enter a year: \"))\n",
    "\n",
    "if (year % 4 == 0 and year % 100 != 0) or (year % 400 == 0):\n",
    "    print(f\"{year} is a leap year.\")\n",
    "else:\n",
    "    print(f\"{year} is not a leap year.\")"
   ]
  },
  {
   "cell_type": "code",
   "execution_count": 24,
   "metadata": {},
   "outputs": [
    {
     "name": "stdout",
     "output_type": "stream",
     "text": [
      "The area of the square is: 529.0\n",
      "The area of the circle is: 3215.36\n"
     ]
    }
   ],
   "source": [
    "#area of square and circle\n",
    "side = float(input(\"Enter the side length of the square: \"))\n",
    "area = side ** 2\n",
    "print(f\"The area of the square is: {area}\")\n",
    "\n",
    "radius = float(input(\"Enter the radius of the circle: \"))\n",
    "area2 = 3.14 * radius ** 2\n",
    "print(f\"The area of the circle is: {area2}\")\n"
   ]
  },
  {
   "cell_type": "code",
   "execution_count": 25,
   "metadata": {},
   "outputs": [
    {
     "name": "stdout",
     "output_type": "stream",
     "text": [
      "Zomato is in the list of mobile apps.\n"
     ]
    }
   ],
   "source": [
    "#\n",
    "apps = {'WhatsApp', 'Instagram', 'Facebook', 'Zomato', 'Twitter', 'Snapchat'}\n",
    "\n",
    "if 'Zomato' in apps:\n",
    "    print(\"Zomato is in the list of mobile apps.\")\n",
    "else:\n",
    "    print(\"Zomato is not in the list of mobile apps.\")\n",
    "\n"
   ]
  },
  {
   "cell_type": "code",
   "execution_count": 1,
   "metadata": {},
   "outputs": [
    {
     "name": "stdout",
     "output_type": "stream",
     "text": [
      "both x and y are greater than 5 and 2, resp.\n"
     ]
    }
   ],
   "source": [
    "x=6\n",
    "y=5\n",
    "if x>5:\n",
    "    if y>2:\n",
    "        print(\"both x and y are greater than 5 and 2, resp.\")\n",
    "    else:\n",
    "        print (\"x is geeater than 5 but y is less than 2\")\n",
    "else :\n",
    "    print(\"x is not greater than 5\")            "
   ]
  },
  {
   "cell_type": "code",
   "execution_count": 3,
   "metadata": {},
   "outputs": [
    {
     "name": "stdout",
     "output_type": "stream",
     "text": [
      "yayyyyy!!!! you have successfully registered\n"
     ]
    }
   ],
   "source": [
    "username = input(\"enter username:\")\n",
    "pwd = input(\"enter password:\")\n",
    "cpwd = input(\"enter confirmed password:\")\n",
    "email = input(\"enter email:\")\n",
    "if len(username)>5 and len(username)<=15:\n",
    "    if '@'in email and email.islower():\n",
    "        if len(pwd)>=8 and len(pwd)<=15:\n",
    "            if pwd==cpwd:\n",
    "                print(\"yayyyyy!!!! you have successfully registered😁🎉🤩😎\")\n",
    "            else:\n",
    "                print (\"password and confirm password should be same😿\")\n",
    "        else:\n",
    "            print(\"password should be between 8 to 15 characters😶😑\") \n",
    "    else:\n",
    "        print(\"email should be in lowercase and should contain @ symbol🥱😶\")     \n",
    "else:\n",
    "    print(\"username should be between 5 to 15 characters😒\")                   "
   ]
  },
  {
   "cell_type": "code",
   "execution_count": 5,
   "metadata": {},
   "outputs": [
    {
     "name": "stdout",
     "output_type": "stream",
     "text": [
      "a string\n"
     ]
    }
   ],
   "source": [
    "value = \"apple\"\n",
    "match value:\n",
    "    case str if len(str) == 0:\n",
    "        print(\"empty string\")\n",
    "    case str if len(str)>0:\n",
    "        print(\"a string\")\n",
    "    case apple:\n",
    "        print (\"apple\")\n",
    "                    "
   ]
  }
 ],
 "metadata": {
  "kernelspec": {
   "display_name": "Python 3",
   "language": "python",
   "name": "python3"
  },
  "language_info": {
   "codemirror_mode": {
    "name": "ipython",
    "version": 3
   },
   "file_extension": ".py",
   "mimetype": "text/x-python",
   "name": "python",
   "nbconvert_exporter": "python",
   "pygments_lexer": "ipython3",
   "version": "3.12.1"
  }
 },
 "nbformat": 4,
 "nbformat_minor": 2
}
