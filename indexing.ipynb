{
 "cells": [
  {
   "cell_type": "code",
   "execution_count": 16,
   "metadata": {},
   "outputs": [
    {
     "name": "stdout",
     "output_type": "stream",
     "text": [
      "spotify\n",
      "amazon\n",
      "['snapchat', 'youtube', 'netflix', 'prime', 'spotify', 'hotstar']\n",
      "['amazon', 'flipkart', 'myntra', 'giva']\n",
      "['internshala', 'blinkit', 'zomato', 'swiggy', 'maps', 'photos', 'duolingo', 'ajio', 'amazon', 'flipkart', 'myntra', 'giva', 'lenskart', 'paytm']\n",
      "['maps', 'photos', 'duolingo', 'ajio', 'amazon', 'flipkart', 'myntra', 'giva', 'lenskart']\n",
      "['instagram', 'whatsapp', 'snapchat', 'youtube', 'netflix', 'prime', 'spotify', 'hotstar', 'udemy', 'linkedIn', 'internshala', 'blinkit', 'zomato', 'swiggy', 'maps', 'photos', 'duolingo', 'ajio', 'amazon', 'flipkart', 'myntra', 'giva', 'lenskart', 'paytm']\n",
      "['snapchat', 'netflix', 'spotify', 'udemy', 'internshala', 'zomato', 'maps']\n"
     ]
    }
   ],
   "source": [
    "#indexing and slicing  \n",
    "#in slicing end range runs as -1 i.e. ([2:8] will run end 7, start range remains the same) so we need to give +1 for the end range to get desired range.\n",
    "mobapps= ['instagram', 'whatsapp', 'snapchat', 'youtube', 'netflix', 'prime', 'spotify', 'hotstar', 'udemy', 'linkedIn', 'internshala', 'blinkit', 'zomato', 'swiggy', 'maps', 'photos', 'duolingo', 'ajio', 'amazon', 'flipkart', 'myntra', 'giva', 'lenskart', 'paytm']\n",
    "print(mobapps[6])\n",
    "print(mobapps[-6])\n",
    "print(mobapps[2:8])\n",
    "print(mobapps[-6:-2])\n",
    "print (mobapps[10:])\n",
    "print(mobapps[-10:-1])\n",
    "print (mobapps[:]) #prints full list\n",
    "print(mobapps[2:15:2]) #using gap to jump from an item, 2 is used to skip 1 element as gap counts the element and the jumpm element, so to skip 1 element we need to use 2, for 2, we use 3.\n"
   ]
  },
  {
   "cell_type": "code",
   "execution_count": null,
   "metadata": {},
   "outputs": [],
   "source": []
  }
 ],
 "metadata": {
  "kernelspec": {
   "display_name": "Python 3",
   "language": "python",
   "name": "python3"
  },
  "language_info": {
   "codemirror_mode": {
    "name": "ipython",
    "version": 3
   },
   "file_extension": ".py",
   "mimetype": "text/x-python",
   "name": "python",
   "nbconvert_exporter": "python",
   "pygments_lexer": "ipython3",
   "version": "3.12.1"
  }
 },
 "nbformat": 4,
 "nbformat_minor": 2
}
